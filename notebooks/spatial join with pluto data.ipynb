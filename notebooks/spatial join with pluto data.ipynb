{
 "cells": [
  {
   "cell_type": "code",
   "execution_count": 1,
   "metadata": {
    "collapsed": true
   },
   "outputs": [],
   "source": [
    "# __author__: CH"
   ]
  },
  {
   "cell_type": "code",
   "execution_count": 18,
   "metadata": {
    "collapsed": true
   },
   "outputs": [],
   "source": [
    "import pandas as pd\n",
    "import numpy as np\n",
    "import os.path\n",
    "import geojson \n",
    "import json\n",
    "import geopandas as gpd\n",
    "import pysal\n",
    "import pickle\n",
    "from shapely.geometry import Point, Polygon, linestring\n",
    "cwd = os.getcwd()"
   ]
  },
  {
   "cell_type": "code",
   "execution_count": 59,
   "metadata": {},
   "outputs": [
    {
     "name": "stdout",
     "output_type": "stream",
     "text": [
      "# BBL: 857237\n"
     ]
    }
   ],
   "source": [
    "# get pluto data\n",
    "pluto_bk = gpd.read_file('./data/bk_mappluto_16v2/BKMapPLUTO.shp')\n",
    "pluto_mn = gpd.read_file('./data/mn_mappluto_16v2/MNMapPLUTO.shp')\n",
    "pluto_qn = gpd.read_file('./data/qn_mappluto_16v2/QNMapPLUTO.shp')\n",
    "pluto_bx = gpd.read_file('./data/bx_mappluto_16v2/BXMapPLUTO.shp')\n",
    "pluto_si = gpd.read_file('./data/si_mappluto_16v2/SIMapPLUTO.shp')\n",
    "pmap = pd.concat([pluto_bk, pluto_mn, pluto_qn, pluto_bx, pluto_si], ignore_index=True)\n",
    "# pluto_bk.geometry = pluto_bk.geometry.to_crs(epsg = 4326)\n",
    "\n",
    "pmap.geometry = pmap.geometry.to_crs(epsg = 4326)\n",
    "\n",
    "print ('# BBL:', len(pmap.BBL))\n"
   ]
  },
  {
   "cell_type": "code",
   "execution_count": 67,
   "metadata": {
    "collapsed": true
   },
   "outputs": [],
   "source": [
    "uniq_biz = pd.read_csv('./uniq_biz_fs.csv', encoding='latin-1', index_col=[0])"
   ]
  },
  {
   "cell_type": "code",
   "execution_count": 26,
   "metadata": {
    "collapsed": true
   },
   "outputs": [],
   "source": [
    "df123 = pd.read_csv('./uniq_foursquare_yy_gg.csv', encoding='latin-1')"
   ]
  },
  {
   "cell_type": "code",
   "execution_count": 70,
   "metadata": {
    "collapsed": true
   },
   "outputs": [],
   "source": [
    "uniq_biz = uniq_biz.dropna(subset=['goog_lng', 'goog_lat'])"
   ]
  },
  {
   "cell_type": "code",
   "execution_count": 71,
   "metadata": {
    "collapsed": true
   },
   "outputs": [],
   "source": [
    "geometry = [Point(xy) for xy in zip(uniq_biz.goog_lng, uniq_biz.goog_lat)]\n",
    "df_point = gpd.GeoDataFrame(uniq_biz, geometry=geometry)"
   ]
  },
  {
   "cell_type": "code",
   "execution_count": null,
   "metadata": {
    "collapsed": true
   },
   "outputs": [],
   "source": []
  },
  {
   "cell_type": "code",
   "execution_count": 81,
   "metadata": {
    "collapsed": true
   },
   "outputs": [],
   "source": [
    "df_point.crs = pmap.crs\n",
    "aa = gpd.sjoin(df_point, pmap, op='within', how='left')"
   ]
  },
  {
   "cell_type": "code",
   "execution_count": 53,
   "metadata": {},
   "outputs": [
    {
     "data": {
      "text/plain": [
       "(276909, 88)"
      ]
     },
     "execution_count": 53,
     "metadata": {},
     "output_type": "execute_result"
    }
   ],
   "source": [
    "pluto_bk.shape"
   ]
  },
  {
   "cell_type": "code",
   "execution_count": 97,
   "metadata": {
    "collapsed": true
   },
   "outputs": [],
   "source": [
    "nyc_comm = gpd.read_file('/nycd_17a/nycd_17a/nycd.shp')"
   ]
  },
  {
   "cell_type": "code",
   "execution_count": 83,
   "metadata": {
    "collapsed": true
   },
   "outputs": [],
   "source": [
    "aa.to_csv('spatial_merged_2.csv')"
   ]
  },
  {
   "cell_type": "code",
   "execution_count": 92,
   "metadata": {
    "collapsed": true
   },
   "outputs": [],
   "source": [
    "ad = aa.dropna(subset=['BBL'])"
   ]
  },
  {
   "cell_type": "code",
   "execution_count": 94,
   "metadata": {
    "collapsed": true
   },
   "outputs": [],
   "source": [
    "ad.to_csv('spatial_merged_solid.csv')"
   ]
  },
  {
   "cell_type": "code",
   "execution_count": 84,
   "metadata": {
    "collapsed": true
   },
   "outputs": [],
   "source": [
    "pd.DataFrame(aa.isnull().sum()).to_csv('missing_value_2')"
   ]
  }
 ],
 "metadata": {
  "anaconda-cloud": {},
  "kernelspec": {
   "display_name": "Python 3",
   "language": "python",
   "name": "python3"
  },
  "language_info": {
   "codemirror_mode": {
    "name": "ipython",
    "version": 3
   },
   "file_extension": ".py",
   "mimetype": "text/x-python",
   "name": "python",
   "nbconvert_exporter": "python",
   "pygments_lexer": "ipython3",
   "version": "3.5.3"
  }
 },
 "nbformat": 4,
 "nbformat_minor": 1
}
