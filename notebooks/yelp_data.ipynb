{
 "cells": [
  {
   "cell_type": "code",
   "execution_count": 1,
   "metadata": {
    "collapsed": true
   },
   "outputs": [],
   "source": [
    "from tqdm import tqdm\n",
    "\n",
    "from yelp.client import Client\n",
    "from yelp.oauth1_authenticator import Oauth1Authenticator\n",
    "\n",
    "import googlemaps\n",
    "\n",
    "import json\n",
    "import pandas as pd\n",
    "import math"
   ]
  },
  {
   "cell_type": "code",
   "execution_count": 2,
   "metadata": {
    "collapsed": false
   },
   "outputs": [],
   "source": [
    "# create yelp and google clients\n",
    "with open('secrets.json') as f:    \n",
    "    creds = json.load(f)\n",
    "    # yelp\n",
    "    auth = Oauth1Authenticator(**creds[\"yelp\"])\n",
    "    yelp_client = Client(auth)\n",
    "    # google\n",
    "    google_client = googlemaps.Client(key=creds[\"googlemaps\"][\"key\"])"
   ]
  },
  {
   "cell_type": "code",
   "execution_count": 3,
   "metadata": {
    "collapsed": false
   },
   "outputs": [
    {
     "data": {
      "text/html": [
       "<div>\n",
       "<table border=\"1\" class=\"dataframe\">\n",
       "  <thead>\n",
       "    <tr style=\"text-align: right;\">\n",
       "      <th></th>\n",
       "      <th>CAMIS</th>\n",
       "      <th>DBA</th>\n",
       "      <th>PHONE</th>\n",
       "      <th>loc</th>\n",
       "      <th>INSPECTION DATE</th>\n",
       "      <th>GRADE</th>\n",
       "      <th>new_grade</th>\n",
       "      <th>yelp_rating</th>\n",
       "      <th>yelp_categories</th>\n",
       "      <th>yelp_review_count</th>\n",
       "      <th>goog_lat</th>\n",
       "      <th>goog_lng</th>\n",
       "    </tr>\n",
       "    <tr>\n",
       "      <th>index</th>\n",
       "      <th></th>\n",
       "      <th></th>\n",
       "      <th></th>\n",
       "      <th></th>\n",
       "      <th></th>\n",
       "      <th></th>\n",
       "      <th></th>\n",
       "      <th></th>\n",
       "      <th></th>\n",
       "      <th></th>\n",
       "      <th></th>\n",
       "      <th></th>\n",
       "    </tr>\n",
       "  </thead>\n",
       "  <tbody>\n",
       "    <tr>\n",
       "      <th>0</th>\n",
       "      <td>50063325</td>\n",
       "      <td>PARIS BAGUETTE</td>\n",
       "      <td>2016865943</td>\n",
       "      <td>575 8TH AVE, MANHATTAN, 10018</td>\n",
       "      <td>1900-01-01</td>\n",
       "      <td>NaN</td>\n",
       "      <td>NaN</td>\n",
       "      <td>None</td>\n",
       "      <td>None</td>\n",
       "      <td>None</td>\n",
       "      <td>None</td>\n",
       "      <td>None</td>\n",
       "    </tr>\n",
       "    <tr>\n",
       "      <th>1</th>\n",
       "      <td>50063312</td>\n",
       "      <td>TAPA</td>\n",
       "      <td>7187374237</td>\n",
       "      <td>102 LEXINGTON AVE, MANHATTAN, 10016</td>\n",
       "      <td>1900-01-01</td>\n",
       "      <td>NaN</td>\n",
       "      <td>NaN</td>\n",
       "      <td>None</td>\n",
       "      <td>None</td>\n",
       "      <td>None</td>\n",
       "      <td>None</td>\n",
       "      <td>None</td>\n",
       "    </tr>\n",
       "    <tr>\n",
       "      <th>2</th>\n",
       "      <td>50063305</td>\n",
       "      <td>LUANNE'S WILD GINGER</td>\n",
       "      <td>7186268663</td>\n",
       "      <td>676 FRANKLIN AVE, BROOKLYN, 11238</td>\n",
       "      <td>1900-01-01</td>\n",
       "      <td>NaN</td>\n",
       "      <td>NaN</td>\n",
       "      <td>None</td>\n",
       "      <td>None</td>\n",
       "      <td>None</td>\n",
       "      <td>None</td>\n",
       "      <td>None</td>\n",
       "    </tr>\n",
       "    <tr>\n",
       "      <th>3</th>\n",
       "      <td>50063296</td>\n",
       "      <td>MARCO'S</td>\n",
       "      <td>2159324545</td>\n",
       "      <td>1071 BROADWAY, BROOKLYN, 11221</td>\n",
       "      <td>1900-01-01</td>\n",
       "      <td>NaN</td>\n",
       "      <td>NaN</td>\n",
       "      <td>None</td>\n",
       "      <td>None</td>\n",
       "      <td>None</td>\n",
       "      <td>None</td>\n",
       "      <td>None</td>\n",
       "    </tr>\n",
       "    <tr>\n",
       "      <th>4</th>\n",
       "      <td>50063282</td>\n",
       "      <td>BOND 45 ITALIAN KITCHEN AND BAR</td>\n",
       "      <td>2123999547</td>\n",
       "      <td>221 W 46TH ST, MANHATTAN, 10036</td>\n",
       "      <td>1900-01-01</td>\n",
       "      <td>NaN</td>\n",
       "      <td>NaN</td>\n",
       "      <td>None</td>\n",
       "      <td>None</td>\n",
       "      <td>None</td>\n",
       "      <td>None</td>\n",
       "      <td>None</td>\n",
       "    </tr>\n",
       "  </tbody>\n",
       "</table>\n",
       "</div>"
      ],
      "text/plain": [
       "          CAMIS                              DBA       PHONE  \\\n",
       "index                                                          \n",
       "0      50063325                   PARIS BAGUETTE  2016865943   \n",
       "1      50063312                             TAPA  7187374237   \n",
       "2      50063305             LUANNE'S WILD GINGER  7186268663   \n",
       "3      50063296                          MARCO'S  2159324545   \n",
       "4      50063282  BOND 45 ITALIAN KITCHEN AND BAR  2123999547   \n",
       "\n",
       "                                       loc INSPECTION DATE GRADE new_grade  \\\n",
       "index                                                                        \n",
       "0            575 8TH AVE, MANHATTAN, 10018      1900-01-01   NaN       NaN   \n",
       "1      102 LEXINGTON AVE, MANHATTAN, 10016      1900-01-01   NaN       NaN   \n",
       "2        676 FRANKLIN AVE, BROOKLYN, 11238      1900-01-01   NaN       NaN   \n",
       "3           1071 BROADWAY, BROOKLYN, 11221      1900-01-01   NaN       NaN   \n",
       "4          221 W 46TH ST, MANHATTAN, 10036      1900-01-01   NaN       NaN   \n",
       "\n",
       "      yelp_rating yelp_categories yelp_review_count goog_lat goog_lng  \n",
       "index                                                                  \n",
       "0            None            None              None     None     None  \n",
       "1            None            None              None     None     None  \n",
       "2            None            None              None     None     None  \n",
       "3            None            None              None     None     None  \n",
       "4            None            None              None     None     None  "
      ]
     },
     "execution_count": 3,
     "metadata": {},
     "output_type": "execute_result"
    }
   ],
   "source": [
    "# get inspected restaurant data\n",
    "inspected = pd.read_csv('uniq_biz.csv', index_col=0)\n",
    "\n",
    "inspected.loc[:, 'yelp_rating'] = None\n",
    "inspected.loc[:, 'yelp_categories'] = None\n",
    "inspected.loc[:, 'yelp_review_count'] = None\n",
    "inspected.loc[:, 'goog_lat'] = None\n",
    "inspected.loc[:, 'goog_lng'] = None\n",
    "\n",
    "inspected.head()"
   ]
  },
  {
   "cell_type": "code",
   "execution_count": 4,
   "metadata": {
    "collapsed": true
   },
   "outputs": [],
   "source": [
    "pd.options.mode.chained_assignment = None"
   ]
  },
  {
   "cell_type": "code",
   "execution_count": 5,
   "metadata": {
    "collapsed": false
   },
   "outputs": [],
   "source": [
    "def get_keywords(name):\n",
    "    # lowercase\n",
    "    keywords = name.lower().split(' ')\n",
    "    # ignore puncuation ect.\n",
    "    keywords = map(lambda word: word.replace(\"'s\",\"\")\\\n",
    "                                    .replace(\"'\",\"\")\\\n",
    "                                    .replace(\"-\",\" \")\\\n",
    "                                    .replace(\".\",\"\")\\\n",
    "                                    .replace(\",\",\"\"), keywords)\n",
    "    # only keeps words of length 3 or more\n",
    "    keywords = filter(lambda word: len(word) >= 3, keywords)\n",
    "    # but throw out a common set of 3 letter words\n",
    "    keywords = filter(lambda word: word not in ['and', 'the', 'for'], keywords)\n",
    "    return keywords"
   ]
  },
  {
   "cell_type": "code",
   "execution_count": 6,
   "metadata": {
    "collapsed": false
   },
   "outputs": [],
   "source": [
    "def find_yelp(df):\n",
    "    start_point = df.index[0]\n",
    "    length = len(df)\n",
    "    for row, insp in tqdm(df.iterrows()):\n",
    "        \n",
    "        try:\n",
    "            name = insp[1]\n",
    "            addr = insp[3]\n",
    "            true_keywords = get_keywords(name)\n",
    "            ### TEST - print 'SEARCH FOR: {}'.format(true_keywords)\n",
    "\n",
    "            # get google lat/long for address\n",
    "            geocode = google_client.geocode(addr)\n",
    "\n",
    "            # if the geocoding worked\n",
    "            if len(geocode) > 0:\n",
    "                loc = geocode[0][\"geometry\"][\"location\"]\n",
    "                df.loc[row, 'goog_lat'] = loc['lat']\n",
    "                df.loc[row, 'goog_lng'] = loc['lng']\n",
    "\n",
    "                params = {\n",
    "                    'term': \" \".join(true_keywords),\n",
    "                    'sort': 0,\n",
    "                    'radius_filter': 500,\n",
    "                    'limit': 5\n",
    "                }\n",
    "                yelp_results = yelp_client.search_by_coordinates(loc['lat'], loc['lng'], **params)\n",
    "                ### TEST - print 'loc: {}, {}'.format(loc['lat'], loc['lng'])\n",
    "\n",
    "            # if the geocoding failed, search without lat/lng, and check a few more candidates\n",
    "            else:\n",
    "                params = {\n",
    "                    'term': ' '.join(true_keywords),\n",
    "                    'sort': 0,\n",
    "                    'limit': 10,\n",
    "                    'location': 'New York, NY'\n",
    "                }\n",
    "                yelp_results = yelp_client.search(**params)\n",
    "\n",
    "            # finding the best match among candidates\n",
    "            best_match = False\n",
    "            ### TEST - print 'candidates:'\n",
    "            for i, biz in enumerate(yelp_results.businesses):\n",
    "                candidate_keywords = get_keywords(biz.name)\n",
    "                ### TEST - print candidate_keywords\n",
    "                union = len(set(true_keywords) & set(candidate_keywords))\n",
    "                if union > 0:\n",
    "                    if best_match == False or union > best_match[1]:\n",
    "                        best_match = (i, union)\n",
    "\n",
    "            # append restaurant attributes to the inspections dataframe\n",
    "            if best_match == False:\n",
    "                pass # dataframe attributes already default to 'None'\n",
    "            else:\n",
    "                best_match = yelp_results.businesses[best_match[0]]\n",
    "                df.loc[row, 'yelp_review_count'] = best_match.review_count\n",
    "                df.loc[row, 'yelp_categories'] = str(map(lambda cat: cat.alias, best_match.categories))\n",
    "                df.loc[row, 'yelp_rating'] = best_match.rating\n",
    "        \n",
    "        except:\n",
    "            pass # catch-all to skip the record and move on... BAD PRACTICE BUT OH WELL\n",
    "\n",
    "    return df"
   ]
  },
  {
   "cell_type": "code",
   "execution_count": 18,
   "metadata": {
    "collapsed": false
   },
   "outputs": [
    {
     "name": "stderr",
     "output_type": "stream",
     "text": [
      "5it [00:02,  2.07it/s][00:00,  2.81it/s]\n"
     ]
    }
   ],
   "source": [
    "# testing on a smaller set\n",
    "df2 = find_yelp(inspected.iloc[10005:10010,:])"
   ]
  },
  {
   "cell_type": "code",
   "execution_count": 19,
   "metadata": {
    "collapsed": false
   },
   "outputs": [
    {
     "data": {
      "text/html": [
       "<div>\n",
       "<table border=\"1\" class=\"dataframe\">\n",
       "  <thead>\n",
       "    <tr style=\"text-align: right;\">\n",
       "      <th></th>\n",
       "      <th>CAMIS</th>\n",
       "      <th>DBA</th>\n",
       "      <th>PHONE</th>\n",
       "      <th>loc</th>\n",
       "      <th>INSPECTION DATE</th>\n",
       "      <th>GRADE</th>\n",
       "      <th>new_grade</th>\n",
       "      <th>yelp_rating</th>\n",
       "      <th>yelp_categories</th>\n",
       "      <th>yelp_review_count</th>\n",
       "      <th>goog_lat</th>\n",
       "      <th>goog_lng</th>\n",
       "    </tr>\n",
       "    <tr>\n",
       "      <th>index</th>\n",
       "      <th></th>\n",
       "      <th></th>\n",
       "      <th></th>\n",
       "      <th></th>\n",
       "      <th></th>\n",
       "      <th></th>\n",
       "      <th></th>\n",
       "      <th></th>\n",
       "      <th></th>\n",
       "      <th></th>\n",
       "      <th></th>\n",
       "      <th></th>\n",
       "    </tr>\n",
       "  </thead>\n",
       "  <tbody>\n",
       "    <tr>\n",
       "      <th>10005</th>\n",
       "      <td>50007883</td>\n",
       "      <td>PRIMORSKIY CORP.</td>\n",
       "      <td>2125420747</td>\n",
       "      <td>1526 NEPTUNE AVE, BROOKLYN, 11224</td>\n",
       "      <td>2016-05-17</td>\n",
       "      <td>A</td>\n",
       "      <td>A</td>\n",
       "      <td>None</td>\n",
       "      <td>None</td>\n",
       "      <td>None</td>\n",
       "      <td>40.5791</td>\n",
       "      <td>-73.9839</td>\n",
       "    </tr>\n",
       "    <tr>\n",
       "      <th>10006</th>\n",
       "      <td>50007882</td>\n",
       "      <td>THE FINANCIER PATISSERIE</td>\n",
       "      <td>2127863220</td>\n",
       "      <td>3-4 World Financial Center, MANHATTAN, 10281</td>\n",
       "      <td>2016-11-04</td>\n",
       "      <td>A</td>\n",
       "      <td>A</td>\n",
       "      <td>3.5</td>\n",
       "      <td>[u'coffee', u'desserts']</td>\n",
       "      <td>73</td>\n",
       "      <td>40.7135</td>\n",
       "      <td>-74.0151</td>\n",
       "    </tr>\n",
       "    <tr>\n",
       "      <th>10007</th>\n",
       "      <td>50007880</td>\n",
       "      <td>MANDARIN ORIENTAL HOTEL-ASIATE</td>\n",
       "      <td>2128058368</td>\n",
       "      <td>80 COLUMBUS CIRCLE at 60th street, MANHATTAN, ...</td>\n",
       "      <td>2016-04-21</td>\n",
       "      <td>A</td>\n",
       "      <td>A</td>\n",
       "      <td>None</td>\n",
       "      <td>None</td>\n",
       "      <td>None</td>\n",
       "      <td>40.7691</td>\n",
       "      <td>-73.983</td>\n",
       "    </tr>\n",
       "    <tr>\n",
       "      <th>10008</th>\n",
       "      <td>50007879</td>\n",
       "      <td>MANDARIN ORIENTAL HOTEL-CAFETERIA</td>\n",
       "      <td>2128058800</td>\n",
       "      <td>80 COLUMBUS CIRCLE, MANHATTAN, 10023</td>\n",
       "      <td>2016-04-23</td>\n",
       "      <td>A</td>\n",
       "      <td>A</td>\n",
       "      <td>None</td>\n",
       "      <td>None</td>\n",
       "      <td>None</td>\n",
       "      <td>40.7691</td>\n",
       "      <td>-73.983</td>\n",
       "    </tr>\n",
       "    <tr>\n",
       "      <th>10009</th>\n",
       "      <td>50007878</td>\n",
       "      <td>MANDARIN ORIENTAL HOTEL-BANQUET</td>\n",
       "      <td>2128058888</td>\n",
       "      <td>80 COLUMBUS CIRCLE at 60th street, MANHATTAN, ...</td>\n",
       "      <td>2016-04-27</td>\n",
       "      <td>A</td>\n",
       "      <td>A</td>\n",
       "      <td>None</td>\n",
       "      <td>None</td>\n",
       "      <td>None</td>\n",
       "      <td>40.7691</td>\n",
       "      <td>-73.983</td>\n",
       "    </tr>\n",
       "  </tbody>\n",
       "</table>\n",
       "</div>"
      ],
      "text/plain": [
       "          CAMIS                                DBA       PHONE  \\\n",
       "index                                                            \n",
       "10005  50007883                   PRIMORSKIY CORP.  2125420747   \n",
       "10006  50007882           THE FINANCIER PATISSERIE  2127863220   \n",
       "10007  50007880     MANDARIN ORIENTAL HOTEL-ASIATE  2128058368   \n",
       "10008  50007879  MANDARIN ORIENTAL HOTEL-CAFETERIA  2128058800   \n",
       "10009  50007878    MANDARIN ORIENTAL HOTEL-BANQUET  2128058888   \n",
       "\n",
       "                                                     loc INSPECTION DATE  \\\n",
       "index                                                                      \n",
       "10005                  1526 NEPTUNE AVE, BROOKLYN, 11224      2016-05-17   \n",
       "10006       3-4 World Financial Center, MANHATTAN, 10281      2016-11-04   \n",
       "10007  80 COLUMBUS CIRCLE at 60th street, MANHATTAN, ...      2016-04-21   \n",
       "10008               80 COLUMBUS CIRCLE, MANHATTAN, 10023      2016-04-23   \n",
       "10009  80 COLUMBUS CIRCLE at 60th street, MANHATTAN, ...      2016-04-27   \n",
       "\n",
       "      GRADE new_grade yelp_rating           yelp_categories yelp_review_count  \\\n",
       "index                                                                           \n",
       "10005     A         A        None                      None              None   \n",
       "10006     A         A         3.5  [u'coffee', u'desserts']                73   \n",
       "10007     A         A        None                      None              None   \n",
       "10008     A         A        None                      None              None   \n",
       "10009     A         A        None                      None              None   \n",
       "\n",
       "      goog_lat goog_lng  \n",
       "index                    \n",
       "10005  40.5791 -73.9839  \n",
       "10006  40.7135 -74.0151  \n",
       "10007  40.7691  -73.983  \n",
       "10008  40.7691  -73.983  \n",
       "10009  40.7691  -73.983  "
      ]
     },
     "execution_count": 19,
     "metadata": {},
     "output_type": "execute_result"
    }
   ],
   "source": [
    "df2"
   ]
  },
  {
   "cell_type": "markdown",
   "metadata": {},
   "source": [
    "### run this when you have some tiiiime"
   ]
  },
  {
   "cell_type": "code",
   "execution_count": 7,
   "metadata": {
    "collapsed": false
   },
   "outputs": [
    {
     "data": {
      "text/plain": [
       "25997"
      ]
     },
     "execution_count": 7,
     "metadata": {},
     "output_type": "execute_result"
    }
   ],
   "source": [
    "len(inspected)"
   ]
  },
  {
   "cell_type": "code",
   "execution_count": 24,
   "metadata": {
    "collapsed": false
   },
   "outputs": [
    {
     "name": "stderr",
     "output_type": "stream",
     "text": [
      "5000it [1:54:54,  1.26s/it]1,  1.57s/it]\n"
     ]
    }
   ],
   "source": [
    "yelp_inspected_1 = find_yelp(inspected.iloc[:5000, :])"
   ]
  },
  {
   "cell_type": "code",
   "execution_count": 26,
   "metadata": {
    "collapsed": true
   },
   "outputs": [],
   "source": [
    "yelp_inspected_1.to_csv('yelped_1.csv')"
   ]
  },
  {
   "cell_type": "code",
   "execution_count": 27,
   "metadata": {
    "collapsed": false
   },
   "outputs": [
    {
     "name": "stderr",
     "output_type": "stream",
     "text": [
      "4999it [1:49:38,  1.44s/it]2,  2.03s/it]\n"
     ]
    }
   ],
   "source": [
    "yelp_inspected_2 = find_yelp(inspected.iloc[5001:10000, :])"
   ]
  },
  {
   "cell_type": "code",
   "execution_count": 30,
   "metadata": {
    "collapsed": false
   },
   "outputs": [],
   "source": [
    "yelp_inspected_2.to_csv('yelped_2.csv')"
   ]
  },
  {
   "cell_type": "code",
   "execution_count": 31,
   "metadata": {
    "collapsed": false
   },
   "outputs": [
    {
     "name": "stderr",
     "output_type": "stream",
     "text": [
      "4999it [1:48:42,  1.13it/s]1,  1.93s/it]\n"
     ]
    }
   ],
   "source": [
    "yelp_inspected_3 = find_yelp(inspected.iloc[10001:15000, :])"
   ]
  },
  {
   "cell_type": "code",
   "execution_count": 32,
   "metadata": {
    "collapsed": true
   },
   "outputs": [],
   "source": [
    "yelp_inspected_3.to_csv('yelped_3.csv')"
   ]
  },
  {
   "cell_type": "code",
   "execution_count": 8,
   "metadata": {
    "collapsed": false
   },
   "outputs": [
    {
     "name": "stderr",
     "output_type": "stream",
     "text": [
      "5000it [2:21:36,  1.86s/it]1,  1.49s/it]\n"
     ]
    }
   ],
   "source": [
    "yelp_inspected_4 = find_yelp(inspected.iloc[15000:20000, :])"
   ]
  },
  {
   "cell_type": "code",
   "execution_count": 9,
   "metadata": {
    "collapsed": true
   },
   "outputs": [],
   "source": [
    "yelp_inspected_4.to_csv('yelped_4.csv')"
   ]
  },
  {
   "cell_type": "code",
   "execution_count": 10,
   "metadata": {
    "collapsed": false
   },
   "outputs": [
    {
     "name": "stderr",
     "output_type": "stream",
     "text": [
      "5996it [2:16:00,  1.15s/it]2,  2.26s/it]\n"
     ]
    }
   ],
   "source": [
    "yelp_inspected_5 = find_yelp(inspected.iloc[20001:, :])"
   ]
  },
  {
   "cell_type": "code",
   "execution_count": 11,
   "metadata": {
    "collapsed": true
   },
   "outputs": [],
   "source": [
    "yelp_inspected_5.to_csv('yelped_5.csv')"
   ]
  },
  {
   "cell_type": "code",
   "execution_count": 25,
   "metadata": {
    "collapsed": false
   },
   "outputs": [
    {
     "name": "stderr",
     "output_type": "stream",
     "text": [
      "3it [00:05,  1.89s/it][00:02,  2.43s/it]\n"
     ]
    }
   ],
   "source": [
    "yelp_inspected_6 = find_yelp(inspected.iloc[[5000, 10000, 20000], :])"
   ]
  },
  {
   "cell_type": "code",
   "execution_count": 16,
   "metadata": {
    "collapsed": true
   },
   "outputs": [],
   "source": [
    "y1 = pd.read_csv('yelped_1.csv', index_col=0)\n",
    "y2 = pd.read_csv('yelped_2.csv', index_col=0)\n",
    "y3 = pd.read_csv('yelped_3.csv', index_col=0)\n",
    "y4 = pd.read_csv('yelped_4.csv', index_col=0)\n",
    "y5 = pd.read_csv('yelped_5.csv', index_col=0)"
   ]
  },
  {
   "cell_type": "code",
   "execution_count": 27,
   "metadata": {
    "collapsed": false
   },
   "outputs": [],
   "source": [
    "y = pd.concat([y1, y2, y3, y4, y5, yelp_inspected_6], axis=0)"
   ]
  },
  {
   "cell_type": "code",
   "execution_count": 30,
   "metadata": {
    "collapsed": false
   },
   "outputs": [],
   "source": [
    "y.to_csv('uniq_biz_yelp_geo.csv')"
   ]
  }
 ],
 "metadata": {
  "anaconda-cloud": {},
  "kernelspec": {
   "display_name": "Python [conda root]",
   "language": "python",
   "name": "conda-root-py"
  },
  "language_info": {
   "codemirror_mode": {
    "name": "ipython",
    "version": 2
   },
   "file_extension": ".py",
   "mimetype": "text/x-python",
   "name": "python",
   "nbconvert_exporter": "python",
   "pygments_lexer": "ipython2",
   "version": "2.7.12"
  }
 },
 "nbformat": 4,
 "nbformat_minor": 2
}
