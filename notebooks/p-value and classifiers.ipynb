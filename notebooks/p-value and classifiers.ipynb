{
 "cells": [
  {
   "cell_type": "code",
   "execution_count": 59,
   "metadata": {
    "collapsed": true
   },
   "outputs": [],
   "source": [
    "import pandas as pd\n",
    "import numpy as np\n",
    "from collections import Counter\n",
    "import math"
   ]
  },
  {
   "cell_type": "code",
   "execution_count": 60,
   "metadata": {},
   "outputs": [],
   "source": [
    "df = pd.read_csv('../data/spatial_merged_solid.csv', encoding='latin-1')\n",
    "topics = pd.read_csv('../data/topic_output.csv', index_col=[0], encoding='latin-1')\n",
    "complaint = pd.read_csv('../data/311_complaint.csv', encoding='latin-1')\n",
    "insp = pd.read_csv('../data/clean_bz.csv', encoding='latin-1')"
   ]
  },
  {
   "cell_type": "code",
   "execution_count": 61,
   "metadata": {},
   "outputs": [],
   "source": [
    "# merge original inspection stuff with main df\n",
    "df = df.merge(insp, on='CAMIS', how='left')"
   ]
  },
  {
   "cell_type": "code",
   "execution_count": 62,
   "metadata": {},
   "outputs": [],
   "source": [
    "# merge 311 stuff with main df\n",
    "df = df.merge(complaint, on='CAMIS', how='left')"
   ]
  },
  {
   "cell_type": "code",
   "execution_count": 63,
   "metadata": {
    "collapsed": true
   },
   "outputs": [],
   "source": [
    "# feature selection\n",
    "df = df.loc[:, ['CAMIS', # inspection data\n",
    "                'new_grade',\n",
    "                'INSPECTION DATE_y',\n",
    "                'VIOLATION CODE',\n",
    "                'SCORE',\n",
    "                'GRADE_y',\n",
    "                'CD', # pluto data, BBL-level (spatially merged)\n",
    "                'HealthArea',\n",
    "                'SanitDistr',\n",
    "                'AssessTot',\n",
    "                'YearAlter1',\n",
    "                'YearAlter2',\n",
    "                'YearBuilt',\n",
    "                'NumFloors',\n",
    "                'yelp_rating', # yelp data, restaurant-level\n",
    "                'yelp_categories',\n",
    "                'yelp_review_count',\n",
    "                'stats.checkinsCount', # foursquare data, restaurant-level\n",
    "                'stats.tipCount',\n",
    "                'stats.usersCount',\n",
    "                '311_complaint_count', # 311 food complaints, restaurant-level\n",
    "                'goog_lat', # google location\n",
    "                'goog_lng']]"
   ]
  },
  {
   "cell_type": "code",
   "execution_count": 64,
   "metadata": {},
   "outputs": [],
   "source": [
    "# rename a couple weird columns post-merge\n",
    "df.columns =   ['CAMIS', # inspection data\n",
    "                'new_grade',\n",
    "                'INSPECTION DATE',\n",
    "                'VIOLATION CODE',\n",
    "                'SCORE',\n",
    "                'GRADE',\n",
    "                'CD', # pluto data, BBL-level (spatially merged)\n",
    "                'HealthArea',\n",
    "                'SanitDistr',\n",
    "                'AssessTot',\n",
    "                'YearAlter1',\n",
    "                'YearAlter2',\n",
    "                'YearBuilt',\n",
    "                'NumFloors',\n",
    "                'yelp_rating', # yelp data, restaurant-level\n",
    "                'yelp_categories',\n",
    "                'yelp_review_count',\n",
    "                'stats.checkinsCount', # foursquare data, restaurant-level\n",
    "                'stats.tipCount',\n",
    "                'stats.usersCount',\n",
    "                '311_complaint_count', # 311 food complaints, restaurant-level\n",
    "                'goog_lat', # google location\n",
    "                'goog_lng']"
   ]
  },
  {
   "cell_type": "code",
   "execution_count": 65,
   "metadata": {
    "collapsed": true
   },
   "outputs": [],
   "source": [
    "df = df.merge(topics, on='CAMIS', how='left')"
   ]
  },
  {
   "cell_type": "code",
   "execution_count": 66,
   "metadata": {},
   "outputs": [],
   "source": [
    "# from collections import defaultdict\n",
    "# d = defaultdict(LabelEncoder)\n",
    "\n",
    "# # Encoding the variable\n",
    "# fit = df_drop.apply(lambda x: d[x.name].fit_transform(x))\n",
    "# features = fit.drop([\"SCORE\", \"GRADE\",\"new_grade\"], 1)\n",
    "# target = fit[\"SCORE\"]\n",
    "\n",
    "# # Inverse the encoded\n",
    "# # fit.apply(lambda x: d[x.name].inverse_transform(x))\n",
    "\n",
    "# # Using the dictionary to label future data\n",
    "# #df.apply(lambda x: d[x.name].transform(x))"
   ]
  },
  {
   "cell_type": "code",
   "execution_count": 67,
   "metadata": {},
   "outputs": [],
   "source": [
    "# only care about the records with a y-label (either A, B, or C)\n",
    "df.GRADE = df.GRADE.apply(str)\n",
    "df = df.loc[df.GRADE.isin(['A', 'B', 'C']), :]"
   ]
  },
  {
   "cell_type": "code",
   "execution_count": 68,
   "metadata": {},
   "outputs": [],
   "source": [
    "# fill NA on 311 column\n",
    "df.loc[:, '311_complaint_count'] = df.loc[:, '311_complaint_count'].fillna(0)"
   ]
  },
  {
   "cell_type": "code",
   "execution_count": 69,
   "metadata": {
    "collapsed": true
   },
   "outputs": [],
   "source": [
    "def clean_cat(cat):\n",
    "    \"\"\"\n",
    "    cleans a single yelp category string\n",
    "    \"\"\"\n",
    "    cat = cat.replace('[', '')\\\n",
    "    .replace(']', '')\\\n",
    "    .replace('u', '')\\\n",
    "    .replace(\"'\", \"\")\\\n",
    "    .replace(\" \", \"\")\n",
    "    \n",
    "    return cat"
   ]
  },
  {
   "cell_type": "code",
   "execution_count": 70,
   "metadata": {
    "collapsed": true
   },
   "outputs": [],
   "source": [
    "def get_top_categories(n):\n",
    "    \"\"\"\n",
    "    returns a list of top n yelp categories from observed data\n",
    "    \"\"\"\n",
    "    yelp_cats = list(df.yelp_categories)\n",
    "    yelp_cats = filter(lambda cat: type(cat)==str, yelp_cats)\n",
    "    yelp_cats = ','.join(yelp_cats).split(',')\n",
    "    yelp_cats = map(clean_cat, yelp_cats)\n",
    "    \n",
    "    return map(lambda x: x[0], Counter(yelp_cats).most_common(n))"
   ]
  },
  {
   "cell_type": "code",
   "execution_count": 71,
   "metadata": {
    "collapsed": true
   },
   "outputs": [],
   "source": [
    "def substring(cat, cats):\n",
    "    \"\"\"\n",
    "    checks if a string contains a substring, with error handling\n",
    "    \"\"\"\n",
    "    try:\n",
    "        return int(cat in cats)\n",
    "    except TypeError:\n",
    "        return 0"
   ]
  },
  {
   "cell_type": "code",
   "execution_count": 72,
   "metadata": {
    "collapsed": true
   },
   "outputs": [],
   "source": [
    "def category_one_hot(df, n):\n",
    "    \"\"\"\n",
    "    appends 'n' columns to a dataframe\n",
    "    corresponding to yes/no for the 'n' most common yelp categories\n",
    "    \"\"\"\n",
    "    for cat in get_top_categories(n):\n",
    "        col_name = 'is_' + cat\n",
    "        df.loc[:, col_name] = df.apply(lambda row: substring(cat, row['yelp_categories']), axis=1)\n",
    "    return df"
   ]
  },
  {
   "cell_type": "code",
   "execution_count": 73,
   "metadata": {
    "collapsed": true
   },
   "outputs": [],
   "source": [
    "# SET NUMBER OF FOOD CATEGORIES HERE\n",
    "food_num = 20"
   ]
  },
  {
   "cell_type": "code",
   "execution_count": 74,
   "metadata": {},
   "outputs": [
    {
     "data": {
      "text/html": [
       "<div>\n",
       "<table border=\"1\" class=\"dataframe\">\n",
       "  <thead>\n",
       "    <tr style=\"text-align: right;\">\n",
       "      <th></th>\n",
       "      <th>CAMIS</th>\n",
       "      <th>new_grade</th>\n",
       "      <th>INSPECTION DATE</th>\n",
       "      <th>VIOLATION CODE</th>\n",
       "      <th>SCORE</th>\n",
       "      <th>GRADE</th>\n",
       "      <th>CD</th>\n",
       "      <th>HealthArea</th>\n",
       "      <th>SanitDistr</th>\n",
       "      <th>AssessTot</th>\n",
       "      <th>...</th>\n",
       "      <th>is_tradamerican</th>\n",
       "      <th>is_bars</th>\n",
       "      <th>is_mexican</th>\n",
       "      <th>is_donts</th>\n",
       "      <th>is_cafes</th>\n",
       "      <th>is_salad</th>\n",
       "      <th>is_japanese</th>\n",
       "      <th>is_desserts</th>\n",
       "      <th>is_seafood</th>\n",
       "      <th>is_icecream</th>\n",
       "    </tr>\n",
       "  </thead>\n",
       "  <tbody>\n",
       "    <tr>\n",
       "      <th>225</th>\n",
       "      <td>50060711</td>\n",
       "      <td>A</td>\n",
       "      <td>03/22/2017</td>\n",
       "      <td>10H</td>\n",
       "      <td>7.0</td>\n",
       "      <td>A</td>\n",
       "      <td>107.0</td>\n",
       "      <td>3500.0</td>\n",
       "      <td>7.0</td>\n",
       "      <td>2049750.0</td>\n",
       "      <td>...</td>\n",
       "      <td>0</td>\n",
       "      <td>0</td>\n",
       "      <td>0</td>\n",
       "      <td>0</td>\n",
       "      <td>0</td>\n",
       "      <td>0</td>\n",
       "      <td>0</td>\n",
       "      <td>0</td>\n",
       "      <td>0</td>\n",
       "      <td>0</td>\n",
       "    </tr>\n",
       "    <tr>\n",
       "      <th>259</th>\n",
       "      <td>50060463</td>\n",
       "      <td>A</td>\n",
       "      <td>03/02/2017</td>\n",
       "      <td>06F</td>\n",
       "      <td>13.0</td>\n",
       "      <td>A</td>\n",
       "      <td>310.0</td>\n",
       "      <td>7820.0</td>\n",
       "      <td>10.0</td>\n",
       "      <td>141750.0</td>\n",
       "      <td>...</td>\n",
       "      <td>0</td>\n",
       "      <td>0</td>\n",
       "      <td>0</td>\n",
       "      <td>0</td>\n",
       "      <td>0</td>\n",
       "      <td>0</td>\n",
       "      <td>0</td>\n",
       "      <td>0</td>\n",
       "      <td>0</td>\n",
       "      <td>0</td>\n",
       "    </tr>\n",
       "    <tr>\n",
       "      <th>266</th>\n",
       "      <td>50060418</td>\n",
       "      <td>A</td>\n",
       "      <td>03/22/2017</td>\n",
       "      <td>06C</td>\n",
       "      <td>9.0</td>\n",
       "      <td>A</td>\n",
       "      <td>106.0</td>\n",
       "      <td>5000.0</td>\n",
       "      <td>6.0</td>\n",
       "      <td>15238350.0</td>\n",
       "      <td>...</td>\n",
       "      <td>0</td>\n",
       "      <td>0</td>\n",
       "      <td>0</td>\n",
       "      <td>0</td>\n",
       "      <td>0</td>\n",
       "      <td>0</td>\n",
       "      <td>0</td>\n",
       "      <td>0</td>\n",
       "      <td>0</td>\n",
       "      <td>0</td>\n",
       "    </tr>\n",
       "    <tr>\n",
       "      <th>270</th>\n",
       "      <td>50060396</td>\n",
       "      <td>A</td>\n",
       "      <td>03/06/2017</td>\n",
       "      <td>10F</td>\n",
       "      <td>7.0</td>\n",
       "      <td>A</td>\n",
       "      <td>414.0</td>\n",
       "      <td>3700.0</td>\n",
       "      <td>14.0</td>\n",
       "      <td>329850.0</td>\n",
       "      <td>...</td>\n",
       "      <td>0</td>\n",
       "      <td>0</td>\n",
       "      <td>0</td>\n",
       "      <td>0</td>\n",
       "      <td>0</td>\n",
       "      <td>0</td>\n",
       "      <td>0</td>\n",
       "      <td>0</td>\n",
       "      <td>0</td>\n",
       "      <td>0</td>\n",
       "    </tr>\n",
       "    <tr>\n",
       "      <th>276</th>\n",
       "      <td>50060377</td>\n",
       "      <td>A</td>\n",
       "      <td>03/23/2017</td>\n",
       "      <td>04L</td>\n",
       "      <td>13.0</td>\n",
       "      <td>A</td>\n",
       "      <td>401.0</td>\n",
       "      <td>400.0</td>\n",
       "      <td>1.0</td>\n",
       "      <td>27216.0</td>\n",
       "      <td>...</td>\n",
       "      <td>0</td>\n",
       "      <td>0</td>\n",
       "      <td>0</td>\n",
       "      <td>0</td>\n",
       "      <td>0</td>\n",
       "      <td>0</td>\n",
       "      <td>0</td>\n",
       "      <td>0</td>\n",
       "      <td>0</td>\n",
       "      <td>0</td>\n",
       "    </tr>\n",
       "  </tbody>\n",
       "</table>\n",
       "<p>5 rows × 54 columns</p>\n",
       "</div>"
      ],
      "text/plain": [
       "        CAMIS new_grade INSPECTION DATE VIOLATION CODE  SCORE GRADE     CD  \\\n",
       "225  50060711         A      03/22/2017            10H    7.0     A  107.0   \n",
       "259  50060463         A      03/02/2017            06F   13.0     A  310.0   \n",
       "266  50060418         A      03/22/2017            06C    9.0     A  106.0   \n",
       "270  50060396         A      03/06/2017            10F    7.0     A  414.0   \n",
       "276  50060377         A      03/23/2017            04L   13.0     A  401.0   \n",
       "\n",
       "     HealthArea  SanitDistr   AssessTot     ...       is_tradamerican  \\\n",
       "225      3500.0         7.0   2049750.0     ...                     0   \n",
       "259      7820.0        10.0    141750.0     ...                     0   \n",
       "266      5000.0         6.0  15238350.0     ...                     0   \n",
       "270      3700.0        14.0    329850.0     ...                     0   \n",
       "276       400.0         1.0     27216.0     ...                     0   \n",
       "\n",
       "     is_bars  is_mexican  is_donts  is_cafes is_salad  is_japanese  \\\n",
       "225        0           0         0         0        0            0   \n",
       "259        0           0         0         0        0            0   \n",
       "266        0           0         0         0        0            0   \n",
       "270        0           0         0         0        0            0   \n",
       "276        0           0         0         0        0            0   \n",
       "\n",
       "     is_desserts  is_seafood  is_icecream  \n",
       "225            0           0            0  \n",
       "259            0           0            0  \n",
       "266            0           0            0  \n",
       "270            0           0            0  \n",
       "276            0           0            0  \n",
       "\n",
       "[5 rows x 54 columns]"
      ]
     },
     "execution_count": 74,
     "metadata": {},
     "output_type": "execute_result"
    }
   ],
   "source": [
    "# append cuisine category one-hots to dataframe\n",
    "df = category_one_hot(df, food_num)\n",
    "df.head()"
   ]
  },
  {
   "cell_type": "code",
   "execution_count": 75,
   "metadata": {
    "collapsed": true
   },
   "outputs": [],
   "source": [
    "def create_y(row):\n",
    "    \"\"\"\n",
    "    output label: 1 for bad inspection, 0 for normal\n",
    "    \"\"\"\n",
    "    if row['GRADE'] in ['B', 'C']:\n",
    "        return 1\n",
    "    else:\n",
    "        return 0"
   ]
  },
  {
   "cell_type": "code",
   "execution_count": 76,
   "metadata": {},
   "outputs": [],
   "source": [
    "# create the final label variable\n",
    "df.loc[:, 'failed'] = df.apply(create_y, axis=1)"
   ]
  },
  {
   "cell_type": "code",
   "execution_count": 77,
   "metadata": {},
   "outputs": [
    {
     "data": {
      "text/plain": [
       "failed\n",
       "0    8078\n",
       "1     846\n",
       "dtype: int64"
      ]
     },
     "execution_count": 77,
     "metadata": {},
     "output_type": "execute_result"
    }
   ],
   "source": [
    "df.groupby('failed').size()"
   ]
  },
  {
   "cell_type": "code",
   "execution_count": 78,
   "metadata": {
    "collapsed": true
   },
   "outputs": [],
   "source": [
    "# years since renovation\n",
    "def get_yrs_since_reno(row):\n",
    "    last_reno = max(row['YearAlter1'], row['YearAlter2'])\n",
    "    if last_reno == 0:\n",
    "        return 2017 - row['YearBuilt']\n",
    "    else:\n",
    "        return 2017 - last_reno"
   ]
  },
  {
   "cell_type": "code",
   "execution_count": 79,
   "metadata": {},
   "outputs": [],
   "source": [
    "# years since renovation\n",
    "df.loc[:, 'yrs_since_reno'] = df.apply(get_yrs_since_reno, axis=1)"
   ]
  },
  {
   "cell_type": "code",
   "execution_count": 80,
   "metadata": {},
   "outputs": [],
   "source": [
    "# building age\n",
    "df.loc[:, 'bldg_age'] = df.apply(lambda row: 2017 - row['YearBuilt'], axis=1)"
   ]
  },
  {
   "cell_type": "code",
   "execution_count": 81,
   "metadata": {
    "collapsed": true
   },
   "outputs": [],
   "source": [
    "#numerics = [ u'AssessTot', u'NumFloors', u'yelp_rating', u'yelp_review_count',\n",
    "#       u'stats.checkinsCount', u'stats.tipCount', u'stats.usersCount',\n",
    "#       u'311_complaint_count', u'yrs_since_reno', u'bldg_age']\n",
    "\n",
    "numerics = [u'yelp_rating', u'yelp_review_count',\n",
    "       u'stats.checkinsCount', u'stats.tipCount', u'stats.usersCount',\n",
    "       u'311_complaint_count', u'yrs_since_reno', u'bldg_age']"
   ]
  },
  {
   "cell_type": "code",
   "execution_count": 82,
   "metadata": {},
   "outputs": [],
   "source": [
    "#categoricals = [u'CD', u'HealthArea', u'SanitDistr'] + \\\n",
    "#    map(lambda cuisine: 'is_' + cuisine, get_top_categories(food_num))\n",
    "    \n",
    "categoricals = map(lambda cuisine: 'is_' + cuisine, get_top_categories(food_num))"
   ]
  },
  {
   "cell_type": "code",
   "execution_count": 83,
   "metadata": {},
   "outputs": [],
   "source": [
    "# standardize numeric columns\n",
    "for col in numerics:\n",
    "    vect = df.loc[:, col]\n",
    "    mean = np.nanmean(vect)\n",
    "    std = np.nanstd(vect)\n",
    "    df.loc[:, col] = (vect - mean) / std"
   ]
  },
  {
   "cell_type": "code",
   "execution_count": 84,
   "metadata": {},
   "outputs": [],
   "source": [
    "# these columns look like numericals, but are actually categorical\n",
    "# convert to strings (with a prefix), so that scikitlearn algos can treat them as categorical\n",
    "\n",
    "\n",
    "def stringize(num, prefix):\n",
    "    if math.isnan(num):\n",
    "        return np.nan\n",
    "    else:\n",
    "        return prefix + '_' + str(int(num))\n",
    "\n",
    "for col in [u'CD', u'HealthArea', u'SanitDistr']:\n",
    "    df.loc[:, col] = list(map(lambda val: stringize(val, col), df.loc[:, col]))"
   ]
  },
  {
   "cell_type": "code",
   "execution_count": 85,
   "metadata": {},
   "outputs": [],
   "source": [
    "df[df.select_dtypes(exclude=['float64']).columns] = df[df.select_dtypes(exclude=['float64']).columns].fillna('NAN')"
   ]
  },
  {
   "cell_type": "code",
   "execution_count": 86,
   "metadata": {
    "collapsed": true
   },
   "outputs": [],
   "source": [
    "# fill missing FS and yelp data with zeroes\n",
    "df = df.fillna(0)"
   ]
  },
  {
   "cell_type": "code",
   "execution_count": 87,
   "metadata": {
    "collapsed": true
   },
   "outputs": [],
   "source": [
    "import seaborn as sns\n",
    "sns.set()"
   ]
  },
  {
   "cell_type": "code",
   "execution_count": 88,
   "metadata": {
    "collapsed": true
   },
   "outputs": [],
   "source": [
    "def scale_log(x):\n",
    "    return(np.log(x+1))"
   ]
  },
  {
   "cell_type": "code",
   "execution_count": null,
   "metadata": {},
   "outputs": [],
   "source": [
    "# Show the survival proability as a function of age and sex\n",
    "from scipy.stats import kendalltau\n",
    "sg = sns.jointplot(\"y_log\", \"f_log\", data=df2, kind=\"kde\",\n",
    "                  xlim=(0, 60), ylim=(0, 12), color=\"r\", size=7)"
   ]
  },
  {
   "cell_type": "code",
   "execution_count": null,
   "metadata": {
    "collapsed": true
   },
   "outputs": [],
   "source": [
    "def map_string(x):\n",
    "    if x == 1:\n",
    "        return 'failed'\n",
    "    else:\n",
    "        return 'good'"
   ]
  },
  {
   "cell_type": "markdown",
   "metadata": {},
   "source": [
    "## p_value starts from here"
   ]
  },
  {
   "cell_type": "code",
   "execution_count": 137,
   "metadata": {
    "collapsed": true
   },
   "outputs": [],
   "source": [
    "import sklearn.pipeline\n",
    "from sklearn.preprocessing import LabelEncoder\n",
    "from sklearn.model_selection import train_test_split\n",
    "from sklearn.model_selection import StratifiedKFold\n",
    "from sklearn.naive_bayes import GaussianNB\n",
    "from scipy import stats\n",
    "from sklearn.linear_model import LinearRegression, LogisticRegression\n",
    "from sklearn.feature_selection import f_classif\n",
    "from sklearn.feature_selection import SelectKBest\n",
    "from sklearn.ensemble import RandomForestClassifier\n",
    "from sklearn.tree import DecisionTreeClassifier\n",
    "from sklearn.metrics import roc_curve, auc\n",
    "from sklearn.svm import SVC"
   ]
  },
  {
   "cell_type": "code",
   "execution_count": null,
   "metadata": {
    "collapsed": true
   },
   "outputs": [],
   "source": []
  },
  {
   "cell_type": "code",
   "execution_count": 122,
   "metadata": {},
   "outputs": [],
   "source": [
    "# create X and y from all selected features\n",
    "X = df[['VIOLATION CODE',\n",
    "       'HealthArea', 'SanitDistr', 'AssessTot',\n",
    "       'YearAlter1', 'YearAlter2', 'YearBuilt', 'NumFloors', 'yelp_rating',\n",
    "       'yelp_review_count', 'stats.checkinsCount',\n",
    "       'stats.tipCount', 'stats.usersCount', '311_complaint_count',\n",
    "       'goog_lat', 'goog_lng', 'topic_0', 'topic_1', 'topic_2',\n",
    "       'topic_3', 'topic_4', 'topic_5', 'topic_6', 'topic_7', 'topic_8',\n",
    "       'topic_9', 'yrs_since_reno', 'bldg_age']]\n",
    "y = df.failed"
   ]
  },
  {
   "cell_type": "code",
   "execution_count": 93,
   "metadata": {},
   "outputs": [],
   "source": [
    "from collections import defaultdict\n",
    "from itertools import cycle\n",
    "d = defaultdict(LabelEncoder)\n",
    "\n",
    "# Encoding the variable\n",
    "fit = X.apply(lambda x: d[x.name].fit_transform(x))\n",
    "features = fit\n",
    "\n",
    "\n",
    "# Inverse the encoded\n",
    "#fit.apply(lambda x: d[x.name].inverse_transform(x))\n",
    "\n",
    "# Using the dictionary to label future data\n",
    "#df.apply(lambda x: d[x.name].transform(x))"
   ]
  },
  {
   "cell_type": "code",
   "execution_count": 284,
   "metadata": {},
   "outputs": [],
   "source": [
    "## F-test with ANOVA\n",
    "\n",
    "F, p_val = f_classif(features, y)"
   ]
  },
  {
   "cell_type": "code",
   "execution_count": 285,
   "metadata": {},
   "outputs": [],
   "source": [
    "p_value = pd.DataFrame(p_val,index=[fit.apply(lambda x: d[x.name].inverse_transform(x)).columns.values], columns=['p-value'])"
   ]
  },
  {
   "cell_type": "code",
   "execution_count": 286,
   "metadata": {},
   "outputs": [],
   "source": [
    "sort_p_value = p_value[p_value['p-value']<0.05].sort_values(by='p-value')"
   ]
  },
  {
   "cell_type": "code",
   "execution_count": 287,
   "metadata": {
    "collapsed": true
   },
   "outputs": [],
   "source": [
    "clean_p_value = sort_p_value.drop(sort_p_value.index[[0]])"
   ]
  },
  {
   "cell_type": "code",
   "execution_count": 308,
   "metadata": {
    "scrolled": true
   },
   "outputs": [
    {
     "data": {
      "text/html": [
       "<div>\n",
       "<table border=\"1\" class=\"dataframe\">\n",
       "  <thead>\n",
       "    <tr style=\"text-align: right;\">\n",
       "      <th></th>\n",
       "      <th>p-value</th>\n",
       "    </tr>\n",
       "  </thead>\n",
       "  <tbody>\n",
       "    <tr>\n",
       "      <th>AssessTot</th>\n",
       "      <td>2.241174e-20</td>\n",
       "    </tr>\n",
       "    <tr>\n",
       "      <th>topic_9</th>\n",
       "      <td>2.688036e-20</td>\n",
       "    </tr>\n",
       "    <tr>\n",
       "      <th>NumFloors</th>\n",
       "      <td>1.408888e-17</td>\n",
       "    </tr>\n",
       "    <tr>\n",
       "      <th>bldg_age</th>\n",
       "      <td>1.193866e-12</td>\n",
       "    </tr>\n",
       "    <tr>\n",
       "      <th>YearBuilt</th>\n",
       "      <td>1.193866e-12</td>\n",
       "    </tr>\n",
       "    <tr>\n",
       "      <th>topic_2</th>\n",
       "      <td>2.702458e-11</td>\n",
       "    </tr>\n",
       "    <tr>\n",
       "      <th>topic_6</th>\n",
       "      <td>2.406512e-09</td>\n",
       "    </tr>\n",
       "    <tr>\n",
       "      <th>topic_1</th>\n",
       "      <td>4.153706e-05</td>\n",
       "    </tr>\n",
       "    <tr>\n",
       "      <th>yrs_since_reno</th>\n",
       "      <td>7.670590e-05</td>\n",
       "    </tr>\n",
       "    <tr>\n",
       "      <th>topic_7</th>\n",
       "      <td>1.135256e-04</td>\n",
       "    </tr>\n",
       "  </tbody>\n",
       "</table>\n",
       "</div>"
      ],
      "text/plain": [
       "                     p-value\n",
       "AssessTot       2.241174e-20\n",
       "topic_9         2.688036e-20\n",
       "NumFloors       1.408888e-17\n",
       "bldg_age        1.193866e-12\n",
       "YearBuilt       1.193866e-12\n",
       "topic_2         2.702458e-11\n",
       "topic_6         2.406512e-09\n",
       "topic_1         4.153706e-05\n",
       "yrs_since_reno  7.670590e-05\n",
       "topic_7         1.135256e-04"
      ]
     },
     "execution_count": 308,
     "metadata": {},
     "output_type": "execute_result"
    }
   ],
   "source": [
    "clean_p_value.head(10)"
   ]
  },
  {
   "cell_type": "markdown",
   "metadata": {},
   "source": [
    "### plot ROC curve for each classifier"
   ]
  },
  {
   "cell_type": "code",
   "execution_count": 135,
   "metadata": {},
   "outputs": [],
   "source": [
    "def plot_ROC(features, y, clf, kbest='all', output_fig='Random Forest'):\n",
    "    \n",
    "    \"\"\"\n",
    "    @parameters features: pandas dataframe\n",
    "    @parameters y: pandas dataframe\n",
    "    @parameters classifier: sklearn classifier\n",
    "    @parameters kbest: number of features(int), if you want all => 'all'\n",
    "    @parameters output_fig: string, filename\n",
    "    \n",
    "    \n",
    "    \"\"\"\n",
    "    print (clf)\n",
    "    \n",
    "    from scipy import interp\n",
    "    \n",
    "    plt.figure(figsize=(10,8))\n",
    "    # Run classifier with cross-validation and plot ROC curves\n",
    "\n",
    "    cv = StratifiedKFold(n_splits=6)\n",
    "\n",
    "\n",
    "    mean_tpr = 0.0\n",
    "    mean_fpr = np.linspace(0, 1, 100)\n",
    "\n",
    "    colors = cycle(['cyan', 'indigo', 'seagreen', 'yellow', 'blue', 'darkorange'])\n",
    "    lw = 2\n",
    "\n",
    "\n",
    "    select = sklearn.feature_selection.SelectKBest(k=kbest)\n",
    "    steps = [('feature_selection', select),\n",
    "            ('random_forest', clf)]\n",
    "\n",
    "    pipeline = sklearn.pipeline.Pipeline(steps)\n",
    "\n",
    "    i = 0\n",
    "    for (train, test), color in zip(cv.split(features, y), colors):\n",
    "        probas_ = pipeline.fit(features.iloc[train], y.iloc[train]).predict_proba(features.iloc[test])\n",
    "        # Compute ROC curve and area the curve\n",
    "        fpr, tpr, thresholds = roc_curve(y.iloc[test], probas_[:, 1])\n",
    "        mean_tpr += interp(mean_fpr, fpr, tpr)\n",
    "        mean_tpr[0] = 0.0\n",
    "        roc_auc = auc(fpr, tpr)\n",
    "        plt.plot(fpr, tpr, lw=lw, color=color,\n",
    "                 label='ROC fold %d (area = %0.2f)' % (i, roc_auc))\n",
    "\n",
    "        i += 1\n",
    "    plt.plot([0, 1], [0, 1], linestyle='--', lw=lw, color='k',\n",
    "             label='Luck')\n",
    "\n",
    "    mean_tpr /= cv.get_n_splits(features, y)\n",
    "    mean_tpr[-1] = 1.0\n",
    "    mean_auc = auc(mean_fpr, mean_tpr)\n",
    "    plt.plot(mean_fpr, mean_tpr, color='g', linestyle='--',\n",
    "             label='Mean ROC (area = %0.2f)' % mean_auc, lw=lw)\n",
    "\n",
    "    plt.xlim([-0.05, 1.05])\n",
    "    plt.ylim([-0.05, 1.05])\n",
    "    plt.xlabel('False Positive Rate')\n",
    "    plt.ylabel('True Positive Rate')\n",
    "    plt.title('Receiver operating characteristic example {}'.format(output_fig))\n",
    "    plt.legend(loc=\"lower right\")\n",
    "    filename = '{} ROC curve.png'.format(output_fig)\n",
    "    plt.savefig(filename, bbox_inches='tight', format='png', dpi=900)\n",
    "    plt.show()"
   ]
  },
  {
   "cell_type": "markdown",
   "metadata": {},
   "source": [
    "####  simple test"
   ]
  },
  {
   "cell_type": "code",
   "execution_count": 136,
   "metadata": {},
   "outputs": [
    {
     "name": "stdout",
     "output_type": "stream",
     "text": [
      "RandomForestClassifier(bootstrap=True, class_weight=None, criterion='gini',\n",
      "            max_depth=None, max_features='auto', max_leaf_nodes=None,\n",
      "            min_impurity_split=1e-07, min_samples_leaf=1,\n",
      "            min_samples_split=2, min_weight_fraction_leaf=0.0,\n",
      "            n_estimators=10, n_jobs=1, oob_score=False, random_state=None,\n",
      "            verbose=0, warm_start=False)\n"
     ]
    },
    {
     "data": {
      "image/png": "[encoded data removed]",
      "text/plain": [
       "<matplotlib.figure.Figure at 0x23481a05358>"
      ]
     },
     "metadata": {},
     "output_type": "display_data"
    }
   ],
   "source": [
    "plot_ROC(features, y, RandomForestClassifier(), kbest='all', output_fig='Random Forest')"
   ]
  },
  {
   "cell_type": "code",
   "execution_count": 99,
   "metadata": {},
   "outputs": [],
   "source": [
    "import pickle\n",
    "pickle.dump(features, open('../data/x.pkl', 'wb'))\n",
    "pickle.dump(y, open('../data/y.pkl', 'wb'))"
   ]
  },
  {
   "cell_type": "code",
   "execution_count": 102,
   "metadata": {},
   "outputs": [
    {
     "data": {
      "image/png": "[encoded data removed]",
      "text/plain": [
       "<matplotlib.figure.Figure at 0x234808bf4e0>"
      ]
     },
     "metadata": {},
     "output_type": "display_data"
    }
   ],
   "source": [
    "#### plot feature importance for random forest\n",
    "\n",
    "import matplotlib.pyplot as plt\n",
    "import numpy as np\n",
    "import pandas as pd\n",
    "from sklearn.ensemble import RandomForestClassifier\n",
    "\n",
    "clf = RandomForestClassifier()\n",
    "clf.fit(features, y)\n",
    "\n",
    "importance = clf.feature_importances_\n",
    "predictor = fit.apply(lambda x: d[x.name].inverse_transform(x))\n",
    "importance = pd.DataFrame(importance, index=predictor.columns, \n",
    "                          columns=[\"Importance\"])\n",
    "\n",
    "importance[\"Std\"] = np.std([tree.feature_importances_\n",
    "                            for tree in clf.estimators_], axis=0)\n",
    "\n",
    "x = range(importance.shape[0])\n",
    "y2 = importance.ix[:, 0]\n",
    "yerr = importance.ix[:, 1]\n",
    "\n",
    "plt.barh(x, y2, yerr=yerr, align=\"center\")\n",
    "\n",
    "plt.show()"
   ]
  },
  {
   "cell_type": "code",
   "execution_count": 105,
   "metadata": {},
   "outputs": [
    {
     "data": {
      "text/plain": [
       "<matplotlib.axes._subplots.AxesSubplot at 0x23482506e80>"
      ]
     },
     "execution_count": 105,
     "metadata": {},
     "output_type": "execute_result"
    },
    {
     "data": {
      "image/png": "[encoded data removed]",
      "text/plain": [
       "<matplotlib.figure.Figure at 0x2348118d1d0>"
      ]
     },
     "metadata": {},
     "output_type": "display_data"
    }
   ],
   "source": [
    "importance.sort_values(by='Importance', ascending=True).tail(10).plot(kind='barh')\n",
    "p"
   ]
  },
  {
   "cell_type": "markdown",
   "metadata": {},
   "source": [
    "#### got a better score when I exclude all the (CD, HealthArea, SanitDistr) madness..."
   ]
  },
  {
   "cell_type": "code",
   "execution_count": null,
   "metadata": {
    "collapsed": true
   },
   "outputs": [],
   "source": []
  }
 ],
 "metadata": {
  "anaconda-cloud": {},
  "kernelspec": {
   "display_name": "Python 3",
   "language": "python",
   "name": "python3"
  },
  "language_info": {
   "codemirror_mode": {
    "name": "ipython",
    "version": 3
   },
   "file_extension": ".py",
   "mimetype": "text/x-python",
   "name": "python",
   "nbconvert_exporter": "python",
   "pygments_lexer": "ipython3",
   "version": "3.5.3"
  }
 },
 "nbformat": 4,
 "nbformat_minor": 2
}
